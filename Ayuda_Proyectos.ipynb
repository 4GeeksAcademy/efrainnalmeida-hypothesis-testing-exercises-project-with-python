{
 "cells": [
  {
   "cell_type": "code",
   "execution_count": null,
   "id": "7c88397f-a822-4ee0-85d2-01284665b6fa",
   "metadata": {},
   "outputs": [],
   "source": [
    "import numpy as np\n",
    "import scipy.stats as stats"
   ]
  },
  {
   "cell_type": "code",
   "execution_count": null,
   "id": "d2f4d3e5-566c-4e12-a41e-c02e56a6d2b8",
   "metadata": {},
   "outputs": [],
   "source": [
    "# Prueba t de Student para muestras independientes\n",
    "t_stat, p_value = stats.ttest_ind(diet_1, diet_2)"
   ]
  },
  {
   "cell_type": "code",
   "execution_count": null,
   "id": "a31354fc-0ba3-4e3a-9a2b-a9df6afc6851",
   "metadata": {},
   "outputs": [],
   "source": [
    "# Prueba ANOVA\n",
    "f_stat, p_value = stats.f_oneway(fert_1, fert_2, fert_3)"
   ]
  }
 ],
 "metadata": {
  "kernelspec": {
   "display_name": "Python 3 (ipykernel)",
   "language": "python",
   "name": "python3"
  },
  "language_info": {
   "codemirror_mode": {
    "name": "ipython",
    "version": 3
   },
   "file_extension": ".py",
   "mimetype": "text/x-python",
   "name": "python",
   "nbconvert_exporter": "python",
   "pygments_lexer": "ipython3",
   "version": "3.12.7"
  }
 },
 "nbformat": 4,
 "nbformat_minor": 5
}

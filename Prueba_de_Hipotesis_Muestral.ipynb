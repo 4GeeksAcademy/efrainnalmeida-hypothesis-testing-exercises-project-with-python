{
 "cells": [
  {
   "cell_type": "code",
   "execution_count": 1,
   "id": "199e6901-04e6-4ad3-b612-3a2e0ece7b4a",
   "metadata": {},
   "outputs": [],
   "source": [
    "import numpy as np\n",
    "import scipy.stats as stats\n"
   ]
  },
  {
   "cell_type": "code",
   "execution_count": 2,
   "id": "7b5af7f2",
   "metadata": {},
   "outputs": [],
   "source": [
    "from muestra_utils import *"
   ]
  },
  {
   "cell_type": "code",
   "execution_count": 3,
   "id": "7b921b3d-e779-44c7-87f3-8207e8c4e4ec",
   "metadata": {},
   "outputs": [],
   "source": [
    "# Proporción de la población\n",
    "poblational_proportion = 0.5  # Se espera que el 50% prefiera café\n"
   ]
  },
  {
   "cell_type": "code",
   "execution_count": 4,
   "id": "895cf3b5-6963-4cff-9cca-382e7dbc1b50",
   "metadata": {},
   "outputs": [],
   "source": [
    "#Ho: La proporcion de tomadores de cafe es del 50%\n",
    "#H1: La proporcion de tomadores de cafe no es del 50%"
   ]
  },
  {
   "cell_type": "code",
   "execution_count": 5,
   "id": "6bf8c2d9-3601-421d-9c52-80990cdb51d6",
   "metadata": {},
   "outputs": [],
   "source": [
    "# Datos de la muestra (1 = prefieren café, 0 = prefieren té)\n",
    "sample = np.array([1, 1, 0, 1, 0, 1, 1, 1, 0, 0, 0, 1, 1, 1, 1, 0, 0, 0, 1, 0])\n",
    "sample_proportion = np.mean(sample)  # Proporción muestral\n",
    "n = len(sample)  # Tamaño de la muestra\n"
   ]
  },
  {
   "cell_type": "code",
   "execution_count": 6,
   "id": "113d04d1-09e0-4721-bbea-be11455b6c23",
   "metadata": {},
   "outputs": [],
   "source": [
    "# Cálculo del Z-score\n",
    "z_score = (sample_proportion - poblational_proportion) / np.sqrt((poblational_proportion * (1 - poblational_proportion)) / n)\n"
   ]
  },
  {
   "cell_type": "code",
   "execution_count": 7,
   "id": "2aebf74c",
   "metadata": {},
   "outputs": [
    {
     "data": {
      "text/plain": [
       "np.float64(0.44721359549995837)"
      ]
     },
     "execution_count": 7,
     "metadata": {},
     "output_type": "execute_result"
    }
   ],
   "source": [
    "z_score"
   ]
  },
  {
   "cell_type": "code",
   "execution_count": 8,
   "id": "ae96a60b",
   "metadata": {},
   "outputs": [
    {
     "name": "stdout",
     "output_type": "stream",
     "text": [
      "El Z-score calculado es: 0.44721359549995837\n"
     ]
    }
   ],
   "source": [
    "# Calcular el Z-score\n",
    "z_score = calculate_z_score(sample_proportion, poblational_proportion, n)\n",
    "\n",
    "# Imprimir resultado\n",
    "print(f\"El Z-score calculado es: {z_score}\")"
   ]
  },
  {
   "cell_type": "code",
   "execution_count": 9,
   "id": "fef7c2c0-0489-4f08-81a8-b7adb98dfcf3",
   "metadata": {},
   "outputs": [],
   "source": [
    "#![Mi imagen](./imagenes/mi_imagen.png)"
   ]
  },
  {
   "cell_type": "code",
   "execution_count": 10,
   "id": "2b4d94c3-f6f9-4e7f-a0c4-20adf4a76a3e",
   "metadata": {},
   "outputs": [],
   "source": [
    "# Cálculo del p-valor\n",
    "p_value = 2 * (1 - stats.norm.cdf(abs(z_score)))\n"
   ]
  },
  {
   "cell_type": "code",
   "execution_count": 11,
   "id": "f7840937",
   "metadata": {},
   "outputs": [
    {
     "name": "stdout",
     "output_type": "stream",
     "text": [
      "El p-valor calculado es: 0.6547208460185767\n"
     ]
    }
   ],
   "source": [
    "# Calcular el p-valor\n",
    "p_value = calculate_p_value(z_score)\n",
    "\n",
    "# Imprimir resultado\n",
    "print(f\"El p-valor calculado es: {p_value}\")"
   ]
  },
  {
   "cell_type": "code",
   "execution_count": 12,
   "id": "a4d3b055-d7de-4e29-ad45-0286b1b52558",
   "metadata": {},
   "outputs": [
    {
     "name": "stdout",
     "output_type": "stream",
     "text": [
      "Z-score: 0.44721359549995837\n",
      "P-value: 0.6547208460185767\n"
     ]
    }
   ],
   "source": [
    "# Resultados\n",
    "print(f\"Z-score: {z_score}\")\n",
    "print(f\"P-value: {p_value}\")\n"
   ]
  },
  {
   "cell_type": "code",
   "execution_count": 13,
   "id": "187c9a5f-c87c-4525-ae35-66899807064d",
   "metadata": {},
   "outputs": [
    {
     "name": "stdout",
     "output_type": "stream",
     "text": [
      "No podemos rechazar la hipótesis nula, la proporción podría ser 50%\n"
     ]
    }
   ],
   "source": [
    "# Decisión basada en el nivel de significancia (α = 0.05)\n",
    "alpha = 0.05\n",
    "if p_value < alpha:\n",
    "    print(\"Rechazamos la hipótesis nula, la proporción no es 50%\")\n",
    "else:\n",
    "    print(\"No podemos rechazar la hipótesis nula, la proporción podría ser 50%\")"
   ]
  },
  {
   "cell_type": "code",
   "execution_count": 14,
   "id": "e8347291-1f65-4921-8dd5-73d897bd3ce0",
   "metadata": {},
   "outputs": [
    {
     "name": "stdout",
     "output_type": "stream",
     "text": [
      "No podemos rechazar la hipótesis nula, la proporción podría ser 50%\n"
     ]
    }
   ],
   "source": [
    "# Decisión basada en el nivel de significancia (α = 0.05)\n",
    "\n",
    "calculate_contraste_hipotesis(p_value,alpha)"
   ]
  }
 ],
 "metadata": {
  "kernelspec": {
   "display_name": "env4",
   "language": "python",
   "name": "python3"
  },
  "language_info": {
   "codemirror_mode": {
    "name": "ipython",
    "version": 3
   },
   "file_extension": ".py",
   "mimetype": "text/x-python",
   "name": "python",
   "nbconvert_exporter": "python",
   "pygments_lexer": "ipython3",
   "version": "3.11.4"
  }
 },
 "nbformat": 4,
 "nbformat_minor": 5
}
